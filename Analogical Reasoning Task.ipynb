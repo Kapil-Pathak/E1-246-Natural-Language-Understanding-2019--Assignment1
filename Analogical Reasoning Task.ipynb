{
 "cells": [
  {
   "cell_type": "code",
   "execution_count": 1,
   "metadata": {},
   "outputs": [],
   "source": [
    "import numpy as np"
   ]
  },
  {
   "cell_type": "code",
   "execution_count": 79,
   "metadata": {},
   "outputs": [],
   "source": [
    "word_embeddings=np.load('word_embeddings_d300_w5.npy')\n",
    "context_embeddings=np.load('context_embeddings_d300_w5.npy')"
   ]
  },
  {
   "cell_type": "code",
   "execution_count": 80,
   "metadata": {},
   "outputs": [],
   "source": [
    "final_embeddings=(word_embeddings+context_embeddings)"
   ]
  },
  {
   "cell_type": "code",
   "execution_count": 81,
   "metadata": {},
   "outputs": [],
   "source": [
    "import pickle\n",
    "with open('dictionary_5.pickle', 'rb') as handle:\n",
    "    dictionary = pickle.load(handle)\n",
    "with open('ind2words_5.pickle', 'rb') as handle:\n",
    "    ind2words = pickle.load(handle)"
   ]
  },
  {
   "cell_type": "code",
   "execution_count": 66,
   "metadata": {},
   "outputs": [],
   "source": [
    "from nltk.stem.snowball import SnowballStemmer\n",
    "englishStemmer=SnowballStemmer(\"english\")\n",
    "with open('questions-words.txt') as qw:\n",
    "    s=qw.readlines()\n",
    "    w1=[]\n",
    "    w2=[]\n",
    "    w3=[]\n",
    "    w4=[]\n",
    "    for line in s[1:]:\n",
    "        if len(line.split('\\n')[0].split(' '))==4:\n",
    "            try:\n",
    "                if dictionary[line.split('\\n')[0].split(' ')[0].lower()] and dictionary[line.split('\\n')[0].split(' ')[1].lower()] and dictionary[line.split('\\n')[0].split(' ')[2].lower()] and dictionary[line.split('\\n')[0].split(' ')[3].lower()]:       #print(line.split('\\n')[0].split(' ')[2].lower())\n",
    "                    w1.append(line.split('\\n')[0].split(' ')[0].lower())\n",
    "                    w2.append(line.split('\\n')[0].split(' ')[1].lower()) \n",
    "                    w3.append(line.split('\\n')[0].split(' ')[2].lower())\n",
    "                    w4.append(line.split('\\n')[0].split(' ')[3].lower())\n",
    "            except KeyError: \n",
    "                continue"
   ]
  },
  {
   "cell_type": "code",
   "execution_count": 67,
   "metadata": {},
   "outputs": [
    {
     "name": "stdout",
     "output_type": "stream",
     "text": [
      "7807\n"
     ]
    }
   ],
   "source": [
    "print(len(w1))"
   ]
  },
  {
   "cell_type": "code",
   "execution_count": 33,
   "metadata": {},
   "outputs": [
    {
     "name": "stdout",
     "output_type": "stream",
     "text": [
      "canada dollar malaysia ringgit\n"
     ]
    }
   ],
   "source": [
    "print(w1[1000]+\" \"+w2[1000]+\" \"+w3[1000]+\" \"+w4[1000])"
   ]
  },
  {
   "cell_type": "code",
   "execution_count": 82,
   "metadata": {},
   "outputs": [],
   "source": [
    "norm_array=[]\n",
    "for i in range(len(final_embeddings)):\n",
    "    norm_array.append(np.linalg.norm(final_embeddings[i]))"
   ]
  },
  {
   "cell_type": "code",
   "execution_count": 83,
   "metadata": {},
   "outputs": [
    {
     "data": {
      "text/plain": [
       "24704"
      ]
     },
     "execution_count": 83,
     "metadata": {},
     "output_type": "execute_result"
    }
   ],
   "source": [
    "len(final_embeddings)"
   ]
  },
  {
   "cell_type": "code",
   "execution_count": 11,
   "metadata": {},
   "outputs": [
    {
     "data": {
      "text/plain": [
       "9"
      ]
     },
     "execution_count": 11,
     "metadata": {},
     "output_type": "execute_result"
    }
   ],
   "source": [
    "24703-24694"
   ]
  },
  {
   "cell_type": "code",
   "execution_count": 84,
   "metadata": {},
   "outputs": [
    {
     "data": {
      "application/vnd.jupyter.widget-view+json": {
       "model_id": "5e1e46765fe645129daaa4d71e4ceddb",
       "version_major": 2,
       "version_minor": 0
      },
      "text/html": [
       "<p>Failed to display Jupyter Widget of type <code>HBox</code>.</p>\n",
       "<p>\n",
       "  If you're reading this message in the Jupyter Notebook or JupyterLab Notebook, it may mean\n",
       "  that the widgets JavaScript is still loading. If this message persists, it\n",
       "  likely means that the widgets JavaScript library is either not installed or\n",
       "  not enabled. See the <a href=\"https://ipywidgets.readthedocs.io/en/stable/user_install.html\">Jupyter\n",
       "  Widgets Documentation</a> for setup instructions.\n",
       "</p>\n",
       "<p>\n",
       "  If you're reading this message in another frontend (for example, a static\n",
       "  rendering on GitHub or <a href=\"https://nbviewer.jupyter.org/\">NBViewer</a>),\n",
       "  it may mean that your frontend doesn't currently support widgets.\n",
       "</p>\n"
      ],
      "text/plain": [
       "HBox(children=(IntProgress(value=0, max=7807), HTML(value='')))"
      ]
     },
     "metadata": {},
     "output_type": "display_data"
    },
    {
     "name": "stdout",
     "output_type": "stream",
     "text": [
      "\n"
     ]
    }
   ],
   "source": [
    "from tqdm import tqdm_notebook as tqdm\n",
    "success=0\n",
    "for i in tqdm(range(len(w1))):\n",
    "    w=final_embeddings[dictionary[w1[i]]]-final_embeddings[dictionary[w2[i]]]+final_embeddings[dictionary[w3[i]]]\n",
    "    norm_w=np.linalg.norm(w)\n",
    "    cosine_dist=[]\n",
    "    for j in range(len(final_embeddings)):\n",
    "        cosine_dist.append(final_embeddings[j].dot(w)/(norm_array[j]*norm_w))\n",
    "    if dictionary[w4[i]] in np.argsort(cosine_dist)[24694:24703]:\n",
    "        success+=1"
   ]
  },
  {
   "cell_type": "code",
   "execution_count": 47,
   "metadata": {},
   "outputs": [
    {
     "data": {
      "text/plain": [
       "0.010119123863199693"
      ]
     },
     "execution_count": 47,
     "metadata": {},
     "output_type": "execute_result"
    }
   ],
   "source": [
    "success/len(w1)"
   ]
  },
  {
   "cell_type": "code",
   "execution_count": 85,
   "metadata": {},
   "outputs": [
    {
     "data": {
      "text/plain": [
       "146"
      ]
     },
     "execution_count": 85,
     "metadata": {},
     "output_type": "execute_result"
    }
   ],
   "source": [
    "success"
   ]
  }
 ],
 "metadata": {
  "kernelspec": {
   "display_name": "Python 3",
   "language": "python",
   "name": "python3"
  },
  "language_info": {
   "codemirror_mode": {
    "name": "ipython",
    "version": 3
   },
   "file_extension": ".py",
   "mimetype": "text/x-python",
   "name": "python",
   "nbconvert_exporter": "python",
   "pygments_lexer": "ipython3",
   "version": "3.6.7"
  }
 },
 "nbformat": 4,
 "nbformat_minor": 2
}
