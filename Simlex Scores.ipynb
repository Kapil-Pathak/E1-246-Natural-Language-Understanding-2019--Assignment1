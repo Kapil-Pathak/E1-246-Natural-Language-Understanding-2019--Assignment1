{
 "cells": [
  {
   "cell_type": "code",
   "execution_count": 31,
   "metadata": {},
   "outputs": [],
   "source": [
    "import numpy as np\n",
    "\n",
    "word_embeddings=np.load('word_embeddings_d300_w4_lr.npy')\n",
    "context_embeddings=np.load('context_embeddings_d300_w4_lr.npy')"
   ]
  },
  {
   "cell_type": "code",
   "execution_count": 32,
   "metadata": {},
   "outputs": [
    {
     "data": {
      "text/plain": [
       "array([[ 0.84286284,  0.33697759,  0.37600492, ...,  0.16373111,\n",
       "         0.62776572,  0.48062566],\n",
       "       [ 0.12055804, -0.07247875,  0.08586739, ...,  0.0102543 ,\n",
       "        -0.04494344,  0.00959042],\n",
       "       [ 0.04859893, -0.0420839 , -0.00546744, ...,  0.06891228,\n",
       "        -0.00961585, -0.04478721],\n",
       "       ...,\n",
       "       [ 0.70432808,  0.77619142,  0.36315756, ...,  0.18789204,\n",
       "         0.94230219,  0.46543619],\n",
       "       [ 0.07303988,  0.52978878,  0.80062837, ...,  0.80464372,\n",
       "         0.69898828,  0.24954731],\n",
       "       [ 0.86906654,  0.21595352,  0.25233145, ...,  0.12197754,\n",
       "         0.51585203,  0.70761917]])"
      ]
     },
     "execution_count": 32,
     "metadata": {},
     "output_type": "execute_result"
    }
   ],
   "source": [
    "context_embeddings"
   ]
  },
  {
   "cell_type": "code",
   "execution_count": 33,
   "metadata": {},
   "outputs": [],
   "source": [
    "final_embeddings=(word_embeddings+context_embeddings)"
   ]
  },
  {
   "cell_type": "code",
   "execution_count": 34,
   "metadata": {},
   "outputs": [
    {
     "data": {
      "text/plain": [
       "2.0617220291276444"
      ]
     },
     "execution_count": 34,
     "metadata": {},
     "output_type": "execute_result"
    }
   ],
   "source": [
    "np.linalg.norm(final_embeddings[1])"
   ]
  },
  {
   "cell_type": "code",
   "execution_count": 35,
   "metadata": {},
   "outputs": [],
   "source": [
    "from nltk.stem.snowball import SnowballStemmer\n",
    "englishStemmer=SnowballStemmer(\"english\")\n",
    "with open('SimLex-999.txt') as sim:\n",
    "    s=sim.readlines()\n",
    "    simplex999=[]\n",
    "    word1=[]\n",
    "    word2=[]\n",
    "    for line in s[1:]:\n",
    "        simplex999.append(float(line.split('\\t')[3]))\n",
    "        word1.append(englishStemmer.stem(line.split('\\t')[0]))\n",
    "        word2.append(englishStemmer.stem(line.split('\\t')[1]))"
   ]
  },
  {
   "cell_type": "code",
   "execution_count": 36,
   "metadata": {},
   "outputs": [],
   "source": [
    "simplex999_np=np.array(simplex999)"
   ]
  },
  {
   "cell_type": "code",
   "execution_count": 37,
   "metadata": {},
   "outputs": [],
   "source": [
    "import pickle\n",
    "with open('dictionary_4_lr.pickle', 'rb') as handle:\n",
    "    dictionary = pickle.load(handle)\n",
    "with open('ind2words_4_lr.pickle', 'rb') as handle:\n",
    "    ind2words = pickle.load(handle)"
   ]
  },
  {
   "cell_type": "code",
   "execution_count": 38,
   "metadata": {},
   "outputs": [],
   "source": [
    "cosine_array=[]\n",
    "siml=[]\n",
    "for i in range(len(word1)):\n",
    "    index1, index2 = dictionary.get(word1[i]), dictionary.get(word2[i])\n",
    "    if index1 is None or index2 is None:\n",
    "        continue       \n",
    "    else:\n",
    "        w1_id_norm=np.linalg.norm(final_embeddings[index1])\n",
    "        w2_id_norm=np.linalg.norm(final_embeddings[index2])\n",
    "        cosine_array.append(final_embeddings[index1].dot(final_embeddings[index2])/(w1_id_norm*w2_id_norm))\n",
    "        siml.append(simplex999_np[i])"
   ]
  },
  {
   "cell_type": "code",
   "execution_count": 39,
   "metadata": {},
   "outputs": [],
   "source": [
    "from scipy.stats import spearmanr\n",
    "coef, p = spearmanr(cosine_array, siml)"
   ]
  },
  {
   "cell_type": "code",
   "execution_count": 40,
   "metadata": {},
   "outputs": [
    {
     "name": "stdout",
     "output_type": "stream",
     "text": [
      "0.08475036328736807\n"
     ]
    }
   ],
   "source": [
    "print(coef)"
   ]
  }
 ],
 "metadata": {
  "kernelspec": {
   "display_name": "Python 3",
   "language": "python",
   "name": "python3"
  },
  "language_info": {
   "codemirror_mode": {
    "name": "ipython",
    "version": 3
   },
   "file_extension": ".py",
   "mimetype": "text/x-python",
   "name": "python",
   "nbconvert_exporter": "python",
   "pygments_lexer": "ipython3",
   "version": "3.6.7"
  }
 },
 "nbformat": 4,
 "nbformat_minor": 2
}
